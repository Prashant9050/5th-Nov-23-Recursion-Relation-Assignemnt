{
 "cells": [
  {
   "cell_type": "code",
   "execution_count": 2,
   "id": "929cbe97-33a5-46f5-8e2a-6b0f0decc209",
   "metadata": {},
   "outputs": [
    {
     "name": "stdout",
     "output_type": "stream",
     "text": [
      "Value of T(2): 105\n"
     ]
    }
   ],
   "source": [
    "#1 Find the value of T(2) for the recurrence relation T(n) = 3T(n-1) + 12n, given that T(0)=5.\n",
    "def T(n):\n",
    "    if n == 0:\n",
    "        return 5  # Base case: T(0) = 5\n",
    "    else:\n",
    "        return 3 * T(n - 1) + 12 * n\n",
    "\n",
    "# Calculate T(2)\n",
    "result = T(2)\n",
    "print(\"Value of T(2):\", result)"
   ]
  },
  {
   "cell_type": "code",
   "execution_count": 3,
   "id": "1f036df3-729f-495a-b64a-b5efa539b29d",
   "metadata": {},
   "outputs": [
    {
     "name": "stdout",
     "output_type": "stream",
     "text": [
      "Result for T(n) = T(n-1) + c: 2\n"
     ]
    }
   ],
   "source": [
    "#2. Given a recurrence relation, solve it %sing the s%bstit%tion method:\n",
    "#a. T(n) = T(n-1) + c\n",
    "def T_a(n, c):\n",
    "    if n == 0:\n",
    "        return 0\n",
    "    else:\n",
    "        return T_a(n - 1, c) + c\n",
    "\n",
    "# Test with n = 2 and c = 1\n",
    "result_a = T_a(2, 1)\n",
    "print(\"Result for T(n) = T(n-1) + c:\", result_a)"
   ]
  },
  {
   "cell_type": "code",
   "execution_count": 4,
   "id": "b4ac4c65-9936-4d1b-b03d-f25d4fbb1121",
   "metadata": {},
   "outputs": [
    {
     "name": "stdout",
     "output_type": "stream",
     "text": [
      "Result for T(n) = 2T(n/2) + n: 4\n"
     ]
    }
   ],
   "source": [
    "#b. T(n) = 2T(n/2) + n\n",
    "def T_b(n):\n",
    "    if n == 1:\n",
    "        return 1\n",
    "    else:\n",
    "        return 2 * T_b(n // 2) + n\n",
    "\n",
    "# Test with n = 2\n",
    "result_b = T_b(2)\n",
    "print(\"Result for T(n) = 2T(n/2) + n:\", result_b)"
   ]
  },
  {
   "cell_type": "code",
   "execution_count": 5,
   "id": "0e90e293-34fc-44c2-9418-41fffceb5283",
   "metadata": {},
   "outputs": [
    {
     "name": "stdout",
     "output_type": "stream",
     "text": [
      "Result for T(n) = 2T(n/2) + c: 3\n"
     ]
    }
   ],
   "source": [
    "#c. T(n) = 2T(n/2) + c\n",
    "def T_c(n, c):\n",
    "    if n == 1:\n",
    "        return c\n",
    "    else:\n",
    "        return 2 * T_c(n // 2, c) + c\n",
    "\n",
    "# Test with n = 2 and c = 1\n",
    "result_c = T_c(2, 1)\n",
    "print(\"Result for T(n) = 2T(n/2) + c:\", result_c)"
   ]
  },
  {
   "cell_type": "code",
   "execution_count": 6,
   "id": "1025ad41-5de4-49f4-818a-960617603bd3",
   "metadata": {},
   "outputs": [
    {
     "name": "stdout",
     "output_type": "stream",
     "text": [
      "Result for T(n) = T(n/2) + c: 2\n"
     ]
    }
   ],
   "source": [
    "#d. T(n) = T(n/2) + c\n",
    "def T_d(n, c):\n",
    "    if n == 1:\n",
    "        return c\n",
    "    else:\n",
    "        return T_d(n // 2, c) + c\n",
    "\n",
    "# Test with n = 2 and c = 1\n",
    "result_d = T_d(2, 1)\n",
    "print(\"Result for T(n) = T(n/2) + c:\", result_d)"
   ]
  },
  {
   "cell_type": "code",
   "execution_count": 7,
   "id": "79ffd662-1cb7-4707-90f4-0a4c4a847931",
   "metadata": {},
   "outputs": [
    {
     "name": "stdout",
     "output_type": "stream",
     "text": [
      "Result for T(n) = 2T(n-1) + 1: 3\n"
     ]
    }
   ],
   "source": [
    "#3. Given a recurrence relation, solve it %sing the rec%rsive tree approach:\n",
    "#a. T(n) = 2T(n-1) +1\n",
    "def T_a(n):\n",
    "    if n == 0:\n",
    "        return 0\n",
    "    else:\n",
    "        return 2 * T_a(n - 1) + 1\n",
    "\n",
    "# Test with n = 2\n",
    "result_a = T_a(2)\n",
    "print(\"Result for T(n) = 2T(n-1) + 1:\", result_a)"
   ]
  },
  {
   "cell_type": "code",
   "execution_count": 8,
   "id": "4944a2b8-0414-4b90-8afc-42898292d7e7",
   "metadata": {},
   "outputs": [
    {
     "name": "stdout",
     "output_type": "stream",
     "text": [
      "Result for T(n) = 2T(n/2) + n: 4\n"
     ]
    }
   ],
   "source": [
    "#b. T(n) = 2T(n/2) + n\n",
    "def T_b(n):\n",
    "    if n == 1:\n",
    "        return 1\n",
    "    else:\n",
    "        return 2 * T_b(n // 2) + n\n",
    "\n",
    "# Test with n = 2\n",
    "result_b = T_b(2)\n",
    "print(\"Result for T(n) = 2T(n/2) + n:\", result_b)"
   ]
  },
  {
   "cell_type": "code",
   "execution_count": null,
   "id": "3de8f1b7-4c6a-4cb2-a888-f407c39ed586",
   "metadata": {},
   "outputs": [],
   "source": []
  }
 ],
 "metadata": {
  "kernelspec": {
   "display_name": "Python 3 (ipykernel)",
   "language": "python",
   "name": "python3"
  },
  "language_info": {
   "codemirror_mode": {
    "name": "ipython",
    "version": 3
   },
   "file_extension": ".py",
   "mimetype": "text/x-python",
   "name": "python",
   "nbconvert_exporter": "python",
   "pygments_lexer": "ipython3",
   "version": "3.10.8"
  }
 },
 "nbformat": 4,
 "nbformat_minor": 5
}
